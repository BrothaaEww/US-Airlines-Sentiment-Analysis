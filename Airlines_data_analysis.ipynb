{
  "cells": [
    {
      "cell_type": "markdown",
      "metadata": {
        "id": "view-in-github",
        "colab_type": "text"
      },
      "source": [
        "<a href=\"https://colab.research.google.com/github/BrothaaEww/US-Airlines-Sentiment-Analysis/blob/main/Airlines_data_analysis.ipynb\" target=\"_parent\"><img src=\"https://colab.research.google.com/assets/colab-badge.svg\" alt=\"Open In Colab\"/></a>"
      ]
    },
    {
      "cell_type": "code",
      "execution_count": null,
      "metadata": {
        "colab": {
          "base_uri": "https://localhost:8080/"
        },
        "id": "ZGjOG3zR0fMn",
        "outputId": "cc82db90-0dee-4ddd-a373-47accb187243"
      },
      "outputs": [
        {
          "output_type": "stream",
          "name": "stdout",
          "text": [
            "Mounted at /content/drive\n"
          ]
        }
      ],
      "source": [
        "from google.colab import drive\n",
        "drive.mount('/content/drive')"
      ]
    },
    {
      "cell_type": "code",
      "execution_count": null,
      "metadata": {
        "id": "9A2t32CsFQOh",
        "colab": {
          "base_uri": "https://localhost:8080/",
          "height": 1000
        },
        "outputId": "0e5c11c6-dd16-4fd3-b15c-4052d014918c"
      },
      "outputs": [
        {
          "output_type": "stream",
          "name": "stdout",
          "text": [
            "           tweet_id airline_sentiment  airline_sentiment_confidence  \\\n",
            "0      5.703060e+17           neutral                        1.0000   \n",
            "1      5.703010e+17          positive                        0.3486   \n",
            "2      5.703010e+17           neutral                        0.6837   \n",
            "3      5.703010e+17          negative                        1.0000   \n",
            "4      5.703010e+17          negative                        1.0000   \n",
            "...             ...               ...                           ...   \n",
            "14635  5.695880e+17          positive                        0.3487   \n",
            "14636  5.695870e+17          negative                        1.0000   \n",
            "14637  5.695870e+17           neutral                        1.0000   \n",
            "14638  5.695870e+17          negative                        1.0000   \n",
            "14639  5.695870e+17           neutral                        0.6771   \n",
            "\n",
            "               negativereason  negativereason_confidence         airline  \\\n",
            "0                         NaN                        NaN  Virgin America   \n",
            "1                         NaN                     0.0000  Virgin America   \n",
            "2                         NaN                        NaN  Virgin America   \n",
            "3                  Bad Flight                     0.7033  Virgin America   \n",
            "4                  Can't Tell                     1.0000  Virgin America   \n",
            "...                       ...                        ...             ...   \n",
            "14635                     NaN                     0.0000        American   \n",
            "14636  Customer Service Issue                     1.0000        American   \n",
            "14637                     NaN                        NaN        American   \n",
            "14638  Customer Service Issue                     0.6659        American   \n",
            "14639                     NaN                     0.0000        American   \n",
            "\n",
            "      airline_sentiment_gold             name negativereason_gold  \\\n",
            "0                        NaN          cairdin                 NaN   \n",
            "1                        NaN         jnardino                 NaN   \n",
            "2                        NaN       yvonnalynn                 NaN   \n",
            "3                        NaN         jnardino                 NaN   \n",
            "4                        NaN         jnardino                 NaN   \n",
            "...                      ...              ...                 ...   \n",
            "14635                    NaN  KristenReenders                 NaN   \n",
            "14636                    NaN         itsropes                 NaN   \n",
            "14637                    NaN         sanyabun                 NaN   \n",
            "14638                    NaN       SraJackson                 NaN   \n",
            "14639                    NaN        daviddtwu                 NaN   \n",
            "\n",
            "       retweet_count                                               text  \\\n",
            "0                  0                @VirginAmerica What @dhepburn said.   \n",
            "1                  0  @VirginAmerica plus you've added commercials t...   \n",
            "2                  0  @VirginAmerica I didn't today... Must mean I n...   \n",
            "3                  0  @VirginAmerica it's really aggressive to blast...   \n",
            "4                  0  @VirginAmerica and it's a really big bad thing...   \n",
            "...              ...                                                ...   \n",
            "14635              0  @AmericanAir thank you we got on a different f...   \n",
            "14636              0  @AmericanAir leaving over 20 minutes Late Flig...   \n",
            "14637              0  @AmericanAir Please bring American Airlines to...   \n",
            "14638              0  @AmericanAir you have my money, you change my ...   \n",
            "14639              0  @AmericanAir we have 8 ppl so we need 2 know h...   \n",
            "\n",
            "      tweet_coord     tweet_created tweet_location               user_timezone  \n",
            "0             NaN  24-02-2015 11:35            NaN  Eastern Time (US & Canada)  \n",
            "1             NaN  24-02-2015 11:15            NaN  Pacific Time (US & Canada)  \n",
            "2             NaN  24-02-2015 11:15      Lets Play  Central Time (US & Canada)  \n",
            "3             NaN  24-02-2015 11:15            NaN  Pacific Time (US & Canada)  \n",
            "4             NaN  24-02-2015 11:14            NaN  Pacific Time (US & Canada)  \n",
            "...           ...               ...            ...                         ...  \n",
            "14635         NaN  22-02-2015 12:01            NaN                         NaN  \n",
            "14636         NaN  22-02-2015 11:59          Texas                         NaN  \n",
            "14637         NaN  22-02-2015 11:59  Nigeria,lagos                         NaN  \n",
            "14638         NaN  22-02-2015 11:59     New Jersey  Eastern Time (US & Canada)  \n",
            "14639         NaN  22-02-2015 11:58     dallas, TX                         NaN  \n",
            "\n",
            "[14640 rows x 15 columns]\n"
          ]
        },
        {
          "output_type": "execute_result",
          "data": {
            "text/plain": [
              "       tweet_id airline_sentiment  airline_sentiment_confidence  \\\n",
              "0  5.703060e+17           neutral                        1.0000   \n",
              "1  5.703010e+17          positive                        0.3486   \n",
              "2  5.703010e+17           neutral                        0.6837   \n",
              "3  5.703010e+17          negative                        1.0000   \n",
              "4  5.703010e+17          negative                        1.0000   \n",
              "\n",
              "  negativereason  negativereason_confidence         airline  \\\n",
              "0            NaN                        NaN  Virgin America   \n",
              "1            NaN                     0.0000  Virgin America   \n",
              "2            NaN                        NaN  Virgin America   \n",
              "3     Bad Flight                     0.7033  Virgin America   \n",
              "4     Can't Tell                     1.0000  Virgin America   \n",
              "\n",
              "  airline_sentiment_gold        name negativereason_gold  retweet_count  \\\n",
              "0                    NaN     cairdin                 NaN              0   \n",
              "1                    NaN    jnardino                 NaN              0   \n",
              "2                    NaN  yvonnalynn                 NaN              0   \n",
              "3                    NaN    jnardino                 NaN              0   \n",
              "4                    NaN    jnardino                 NaN              0   \n",
              "\n",
              "                                                text tweet_coord  \\\n",
              "0                @VirginAmerica What @dhepburn said.         NaN   \n",
              "1  @VirginAmerica plus you've added commercials t...         NaN   \n",
              "2  @VirginAmerica I didn't today... Must mean I n...         NaN   \n",
              "3  @VirginAmerica it's really aggressive to blast...         NaN   \n",
              "4  @VirginAmerica and it's a really big bad thing...         NaN   \n",
              "\n",
              "      tweet_created tweet_location               user_timezone  \n",
              "0  24-02-2015 11:35            NaN  Eastern Time (US & Canada)  \n",
              "1  24-02-2015 11:15            NaN  Pacific Time (US & Canada)  \n",
              "2  24-02-2015 11:15      Lets Play  Central Time (US & Canada)  \n",
              "3  24-02-2015 11:15            NaN  Pacific Time (US & Canada)  \n",
              "4  24-02-2015 11:14            NaN  Pacific Time (US & Canada)  "
            ],
            "text/html": [
              "\n",
              "  <div id=\"df-8dfdeaa4-d60b-46bf-b489-bec9f14b06ad\">\n",
              "    <div class=\"colab-df-container\">\n",
              "      <div>\n",
              "<style scoped>\n",
              "    .dataframe tbody tr th:only-of-type {\n",
              "        vertical-align: middle;\n",
              "    }\n",
              "\n",
              "    .dataframe tbody tr th {\n",
              "        vertical-align: top;\n",
              "    }\n",
              "\n",
              "    .dataframe thead th {\n",
              "        text-align: right;\n",
              "    }\n",
              "</style>\n",
              "<table border=\"1\" class=\"dataframe\">\n",
              "  <thead>\n",
              "    <tr style=\"text-align: right;\">\n",
              "      <th></th>\n",
              "      <th>tweet_id</th>\n",
              "      <th>airline_sentiment</th>\n",
              "      <th>airline_sentiment_confidence</th>\n",
              "      <th>negativereason</th>\n",
              "      <th>negativereason_confidence</th>\n",
              "      <th>airline</th>\n",
              "      <th>airline_sentiment_gold</th>\n",
              "      <th>name</th>\n",
              "      <th>negativereason_gold</th>\n",
              "      <th>retweet_count</th>\n",
              "      <th>text</th>\n",
              "      <th>tweet_coord</th>\n",
              "      <th>tweet_created</th>\n",
              "      <th>tweet_location</th>\n",
              "      <th>user_timezone</th>\n",
              "    </tr>\n",
              "  </thead>\n",
              "  <tbody>\n",
              "    <tr>\n",
              "      <th>0</th>\n",
              "      <td>5.703060e+17</td>\n",
              "      <td>neutral</td>\n",
              "      <td>1.0000</td>\n",
              "      <td>NaN</td>\n",
              "      <td>NaN</td>\n",
              "      <td>Virgin America</td>\n",
              "      <td>NaN</td>\n",
              "      <td>cairdin</td>\n",
              "      <td>NaN</td>\n",
              "      <td>0</td>\n",
              "      <td>@VirginAmerica What @dhepburn said.</td>\n",
              "      <td>NaN</td>\n",
              "      <td>24-02-2015 11:35</td>\n",
              "      <td>NaN</td>\n",
              "      <td>Eastern Time (US &amp; Canada)</td>\n",
              "    </tr>\n",
              "    <tr>\n",
              "      <th>1</th>\n",
              "      <td>5.703010e+17</td>\n",
              "      <td>positive</td>\n",
              "      <td>0.3486</td>\n",
              "      <td>NaN</td>\n",
              "      <td>0.0000</td>\n",
              "      <td>Virgin America</td>\n",
              "      <td>NaN</td>\n",
              "      <td>jnardino</td>\n",
              "      <td>NaN</td>\n",
              "      <td>0</td>\n",
              "      <td>@VirginAmerica plus you've added commercials t...</td>\n",
              "      <td>NaN</td>\n",
              "      <td>24-02-2015 11:15</td>\n",
              "      <td>NaN</td>\n",
              "      <td>Pacific Time (US &amp; Canada)</td>\n",
              "    </tr>\n",
              "    <tr>\n",
              "      <th>2</th>\n",
              "      <td>5.703010e+17</td>\n",
              "      <td>neutral</td>\n",
              "      <td>0.6837</td>\n",
              "      <td>NaN</td>\n",
              "      <td>NaN</td>\n",
              "      <td>Virgin America</td>\n",
              "      <td>NaN</td>\n",
              "      <td>yvonnalynn</td>\n",
              "      <td>NaN</td>\n",
              "      <td>0</td>\n",
              "      <td>@VirginAmerica I didn't today... Must mean I n...</td>\n",
              "      <td>NaN</td>\n",
              "      <td>24-02-2015 11:15</td>\n",
              "      <td>Lets Play</td>\n",
              "      <td>Central Time (US &amp; Canada)</td>\n",
              "    </tr>\n",
              "    <tr>\n",
              "      <th>3</th>\n",
              "      <td>5.703010e+17</td>\n",
              "      <td>negative</td>\n",
              "      <td>1.0000</td>\n",
              "      <td>Bad Flight</td>\n",
              "      <td>0.7033</td>\n",
              "      <td>Virgin America</td>\n",
              "      <td>NaN</td>\n",
              "      <td>jnardino</td>\n",
              "      <td>NaN</td>\n",
              "      <td>0</td>\n",
              "      <td>@VirginAmerica it's really aggressive to blast...</td>\n",
              "      <td>NaN</td>\n",
              "      <td>24-02-2015 11:15</td>\n",
              "      <td>NaN</td>\n",
              "      <td>Pacific Time (US &amp; Canada)</td>\n",
              "    </tr>\n",
              "    <tr>\n",
              "      <th>4</th>\n",
              "      <td>5.703010e+17</td>\n",
              "      <td>negative</td>\n",
              "      <td>1.0000</td>\n",
              "      <td>Can't Tell</td>\n",
              "      <td>1.0000</td>\n",
              "      <td>Virgin America</td>\n",
              "      <td>NaN</td>\n",
              "      <td>jnardino</td>\n",
              "      <td>NaN</td>\n",
              "      <td>0</td>\n",
              "      <td>@VirginAmerica and it's a really big bad thing...</td>\n",
              "      <td>NaN</td>\n",
              "      <td>24-02-2015 11:14</td>\n",
              "      <td>NaN</td>\n",
              "      <td>Pacific Time (US &amp; Canada)</td>\n",
              "    </tr>\n",
              "  </tbody>\n",
              "</table>\n",
              "</div>\n",
              "      <button class=\"colab-df-convert\" onclick=\"convertToInteractive('df-8dfdeaa4-d60b-46bf-b489-bec9f14b06ad')\"\n",
              "              title=\"Convert this dataframe to an interactive table.\"\n",
              "              style=\"display:none;\">\n",
              "        \n",
              "  <svg xmlns=\"http://www.w3.org/2000/svg\" height=\"24px\"viewBox=\"0 0 24 24\"\n",
              "       width=\"24px\">\n",
              "    <path d=\"M0 0h24v24H0V0z\" fill=\"none\"/>\n",
              "    <path d=\"M18.56 5.44l.94 2.06.94-2.06 2.06-.94-2.06-.94-.94-2.06-.94 2.06-2.06.94zm-11 1L8.5 8.5l.94-2.06 2.06-.94-2.06-.94L8.5 2.5l-.94 2.06-2.06.94zm10 10l.94 2.06.94-2.06 2.06-.94-2.06-.94-.94-2.06-.94 2.06-2.06.94z\"/><path d=\"M17.41 7.96l-1.37-1.37c-.4-.4-.92-.59-1.43-.59-.52 0-1.04.2-1.43.59L10.3 9.45l-7.72 7.72c-.78.78-.78 2.05 0 2.83L4 21.41c.39.39.9.59 1.41.59.51 0 1.02-.2 1.41-.59l7.78-7.78 2.81-2.81c.8-.78.8-2.07 0-2.86zM5.41 20L4 18.59l7.72-7.72 1.47 1.35L5.41 20z\"/>\n",
              "  </svg>\n",
              "      </button>\n",
              "      \n",
              "  <style>\n",
              "    .colab-df-container {\n",
              "      display:flex;\n",
              "      flex-wrap:wrap;\n",
              "      gap: 12px;\n",
              "    }\n",
              "\n",
              "    .colab-df-convert {\n",
              "      background-color: #E8F0FE;\n",
              "      border: none;\n",
              "      border-radius: 50%;\n",
              "      cursor: pointer;\n",
              "      display: none;\n",
              "      fill: #1967D2;\n",
              "      height: 32px;\n",
              "      padding: 0 0 0 0;\n",
              "      width: 32px;\n",
              "    }\n",
              "\n",
              "    .colab-df-convert:hover {\n",
              "      background-color: #E2EBFA;\n",
              "      box-shadow: 0px 1px 2px rgba(60, 64, 67, 0.3), 0px 1px 3px 1px rgba(60, 64, 67, 0.15);\n",
              "      fill: #174EA6;\n",
              "    }\n",
              "\n",
              "    [theme=dark] .colab-df-convert {\n",
              "      background-color: #3B4455;\n",
              "      fill: #D2E3FC;\n",
              "    }\n",
              "\n",
              "    [theme=dark] .colab-df-convert:hover {\n",
              "      background-color: #434B5C;\n",
              "      box-shadow: 0px 1px 3px 1px rgba(0, 0, 0, 0.15);\n",
              "      filter: drop-shadow(0px 1px 2px rgba(0, 0, 0, 0.3));\n",
              "      fill: #FFFFFF;\n",
              "    }\n",
              "  </style>\n",
              "\n",
              "      <script>\n",
              "        const buttonEl =\n",
              "          document.querySelector('#df-8dfdeaa4-d60b-46bf-b489-bec9f14b06ad button.colab-df-convert');\n",
              "        buttonEl.style.display =\n",
              "          google.colab.kernel.accessAllowed ? 'block' : 'none';\n",
              "\n",
              "        async function convertToInteractive(key) {\n",
              "          const element = document.querySelector('#df-8dfdeaa4-d60b-46bf-b489-bec9f14b06ad');\n",
              "          const dataTable =\n",
              "            await google.colab.kernel.invokeFunction('convertToInteractive',\n",
              "                                                     [key], {});\n",
              "          if (!dataTable) return;\n",
              "\n",
              "          const docLinkHtml = 'Like what you see? Visit the ' +\n",
              "            '<a target=\"_blank\" href=https://colab.research.google.com/notebooks/data_table.ipynb>data table notebook</a>'\n",
              "            + ' to learn more about interactive tables.';\n",
              "          element.innerHTML = '';\n",
              "          dataTable['output_type'] = 'display_data';\n",
              "          await google.colab.output.renderOutput(dataTable, element);\n",
              "          const docLink = document.createElement('div');\n",
              "          docLink.innerHTML = docLinkHtml;\n",
              "          element.appendChild(docLink);\n",
              "        }\n",
              "      </script>\n",
              "    </div>\n",
              "  </div>\n",
              "  "
            ]
          },
          "metadata": {},
          "execution_count": 2
        }
      ],
      "source": [
        "import pandas as pd\n",
        "import matplotlib.pyplot as plt\n",
        "%matplotlib inline\n",
        "import seaborn as sns\n",
        "\n",
        "# tweets = pd.read_csv(\"/content/drive/MyDrive/Airlines.csv\")\n",
        "tweets = pd.read_csv(\"/content/drive/MyDrive/Projects_and_Research_Papers/Book_Chapter(US_Election & Airlines)/Airlines_Tweet_Data.csv\")\n",
        "print(tweets)\n",
        "tweets.head()"
      ]
    },
    {
      "cell_type": "code",
      "execution_count": null,
      "metadata": {
        "id": "gAcmNDURGnx1",
        "colab": {
          "base_uri": "https://localhost:8080/",
          "height": 265
        },
        "outputId": "8604d9ba-7226-4d9a-e1ab-82b14140b647"
      },
      "outputs": [
        {
          "output_type": "execute_result",
          "data": {
            "text/plain": [
              "<AxesSubplot:ylabel='airline'>"
            ]
          },
          "metadata": {},
          "execution_count": 3
        },
        {
          "output_type": "display_data",
          "data": {
            "text/plain": [
              "<Figure size 432x288 with 1 Axes>"
            ],
            "image/png": "[encoded data removed]"
          },
          "metadata": {}
        }
      ],
      "source": [
        "tweets.airline.value_counts().plot(kind='pie', autopct='%1.0f%%')"
      ]
    },
    {
      "cell_type": "code",
      "execution_count": null,
      "metadata": {
        "id": "L1cZPm3PG5CU",
        "colab": {
          "base_uri": "https://localhost:8080/",
          "height": 265
        },
        "outputId": "5b0f928f-ecb4-4f10-b1b8-6a70da9e8a2c"
      },
      "outputs": [
        {
          "output_type": "execute_result",
          "data": {
            "text/plain": [
              "<AxesSubplot:ylabel='airline_sentiment'>"
            ]
          },
          "metadata": {},
          "execution_count": 4
        },
        {
          "output_type": "display_data",
          "data": {
            "text/plain": [
              "<Figure size 432x288 with 1 Axes>"
            ],
            "image/png": "[encoded data removed]"
          },
          "metadata": {}
        }
      ],
      "source": [
        "tweets.airline_sentiment.value_counts().plot(kind='pie', autopct='%1.0f%%')"
      ]
    },
    {
      "cell_type": "code",
      "execution_count": null,
      "metadata": {
        "id": "UPkwJh8-I_WT",
        "colab": {
          "base_uri": "https://localhost:8080/",
          "height": 360
        },
        "outputId": "c2ed9641-af0e-43a9-86a8-d887d7f4a2f7"
      },
      "outputs": [
        {
          "output_type": "execute_result",
          "data": {
            "text/plain": [
              "<AxesSubplot:xlabel='airline'>"
            ]
          },
          "metadata": {},
          "execution_count": 5
        },
        {
          "output_type": "display_data",
          "data": {
            "text/plain": [
              "<Figure size 432x288 with 1 Axes>"
            ],
            "image/png": "[encoded data removed]"
          },
          "metadata": {
            "needs_background": "light"
          }
        }
      ],
      "source": [
        "sentiment = tweets.groupby(['airline','airline_sentiment']).airline_sentiment.count().unstack()\n",
        "sentiment.plot(kind='bar')"
      ]
    },
    {
      "cell_type": "code",
      "execution_count": null,
      "metadata": {
        "id": "O8FXGry3JRzN",
        "colab": {
          "base_uri": "https://localhost:8080/",
          "height": 297
        },
        "outputId": "af34f700-de64-4129-d7a9-ad34126b83ec"
      },
      "outputs": [
        {
          "output_type": "execute_result",
          "data": {
            "text/plain": [
              "<AxesSubplot:xlabel='airline_sentiment', ylabel='airline_sentiment_confidence'>"
            ]
          },
          "metadata": {},
          "execution_count": 6
        },
        {
          "output_type": "display_data",
          "data": {
            "text/plain": [
              "<Figure size 432x288 with 1 Axes>"
            ],
            "image/png": "[encoded data removed]"
          },
          "metadata": {
            "needs_background": "light"
          }
        }
      ],
      "source": [
        "sns.barplot(x='airline_sentiment', y='airline_sentiment_confidence', data=tweets)"
      ]
    },
    {
      "cell_type": "code",
      "execution_count": null,
      "metadata": {
        "id": "y3jS6CxeCNtN"
      },
      "outputs": [],
      "source": [
        "pip install tensorflow"
      ]
    },
    {
      "cell_type": "code",
      "execution_count": null,
      "metadata": {
        "colab": {
          "base_uri": "https://localhost:8080/"
        },
        "id": "MA7XZC9qXHqK",
        "outputId": "78eaddc3-2b7b-4825-dd9a-e9b278992b88"
      },
      "outputs": [
        {
          "output_type": "stream",
          "name": "stderr",
          "text": [
            "[nltk_data] Downloading package stopwords to /root/nltk_data...\n",
            "[nltk_data]   Package stopwords is already up-to-date!\n"
          ]
        }
      ],
      "source": [
        "# MODEL CREATION\n",
        "\n",
        "import pandas as pd\n",
        "import re\n",
        "\n",
        "from sklearn.feature_extraction.text import TfidfVectorizer\n",
        "import nltk\n",
        "nltk.download('stopwords')\n",
        "from nltk.corpus import stopwords\n",
        "\n",
        "from sklearn.model_selection import train_test_split\n",
        "\n",
        "from sklearn.ensemble import RandomForestClassifier\n",
        "\n",
        "from sklearn.metrics import mean_squared_error\n",
        "\n",
        "\n",
        "# tweets = pd.read_csv(\"/content/drive/MyDrive/Tweets.csv\")\n",
        "tweets = pd.read_csv(\"/content/drive/MyDrive/Airlines.csv\")\n",
        "# tweets = pd.read_csv(\"/content/drive/MyDrive/Projects_and_Research_Papers/Book_Chapter(US_Election & Airlines)/Airlines_Tweet_Data.csv\")\n",
        "\n",
        "tweets.head()\n",
        "\n",
        "features = tweets.iloc[:, 10].values\n",
        "labels = tweets.iloc[:, 1].values\n",
        "\n",
        "features_pp = []\n",
        "for i in range(0, len(features)):\n",
        "    feature_pp = re.sub(r'\\W', ' ', str(features[i]))\n",
        "    feature_pp = re.sub(r'\\s+[a-zA-Z]\\s+', ' ', feature_pp)\n",
        "    feature_pp = re.sub(r'\\^[a-zA-Z]\\s+', ' ', feature_pp)\n",
        "    feature_pp = re.sub(r'\\s+', ' ', feature_pp, flags=re.I)\n",
        "    feature_pp = re.sub(r'^b\\s+', '', feature_pp)\n",
        "    feature_pp = feature_pp.lower()\n",
        "    features_pp.append(feature_pp)\n",
        "# print(features_pp)\n",
        "\n",
        "vectorizer = TfidfVectorizer(max_features=2500,\n",
        "    min_df=7, max_df=0.8, stop_words=stopwords.words('english'))\n",
        "features_pp = vectorizer.fit_transform(features_pp).toarray()\n"
      ]
    },
    {
      "cell_type": "code",
      "source": [
        "X_train, X_test, y_train, y_test = train_test_split(\n",
        "    features_pp, labels, test_size=0.2, random_state=0)"
      ],
      "metadata": {
        "id": "Uj33yivi82qA"
      },
      "execution_count": null,
      "outputs": []
    },
    {
      "cell_type": "code",
      "execution_count": null,
      "metadata": {
        "colab": {
          "base_uri": "https://localhost:8080/"
        },
        "id": "_enez7_hGPWH",
        "outputId": "1afcb2f1-4ed9-4fd4-928b-e38ee51223b8"
      },
      "outputs": [
        {
          "output_type": "execute_result",
          "data": {
            "text/plain": [
              "RandomForestClassifier(n_estimators=200, random_state=0)"
            ]
          },
          "metadata": {},
          "execution_count": 29
        }
      ],
      "source": [
        "classifier_rf = RandomForestClassifier(n_estimators=200, random_state=0)\n",
        "classifier_rf.fit(X_train, y_train)"
      ]
    },
    {
      "cell_type": "code",
      "source": [
        "import seaborn as sns\n",
        "import matplotlib.pyplot as plt\n",
        "\n",
        "from sklearn.metrics import classification_report, confusion_matrix, accuracy_score\n",
        "from sklearn.metrics import confusion_matrix, ConfusionMatrixDisplay\n",
        "\n",
        "predictions = classifier_rf.predict(X_test)\n",
        "\n",
        "print(\"\\nConfusion Matrix\")\n",
        "cm = confusion_matrix(y_test, predictions)\n",
        "print(cm)\n",
        "\n",
        "sns.heatmap(confusion_matrix(y_test, predictions), annot=True)\n",
        "\n",
        "print(\"\\nClassification Report\")\n",
        "print(classification_report(y_test, predictions))\n",
        "\n",
        "print(\"\\nAccuracy\")\n",
        "print(accuracy_score(y_test, predictions)*100, '%')\n",
        "\n",
        "ConfusionMatrixDisplay.from_estimator(classifier_rf, X_test, y_test)\n",
        "\n",
        "# disp = ConfusionMatrixDisplay(confusion_matrix=cm,display_labels=classifier_rf.classes_)\n",
        "# disp.plot()\n",
        "plt.show()"
      ],
      "metadata": {
        "colab": {
          "base_uri": "https://localhost:8080/",
          "height": 874
        },
        "id": "pnLgwg5d0mmm",
        "outputId": "6d75b0ab-f5f4-4b63-cd11-4678c31f436e"
      },
      "execution_count": null,
      "outputs": [
        {
          "output_type": "stream",
          "name": "stdout",
          "text": [
            "\n",
            "Confusion Matrix\n",
            "[[1723  108   39]\n",
            " [ 326  248   40]\n",
            " [ 132   58  254]]\n",
            "\n",
            "Classification Report\n",
            "              precision    recall  f1-score   support\n",
            "\n",
            "    negative       0.79      0.92      0.85      1870\n",
            "     neutral       0.60      0.40      0.48       614\n",
            "    positive       0.76      0.57      0.65       444\n",
            "\n",
            "    accuracy                           0.76      2928\n",
            "   macro avg       0.72      0.63      0.66      2928\n",
            "weighted avg       0.75      0.76      0.74      2928\n",
            "\n",
            "\n",
            "Accuracy\n",
            "75.99043715846994 %\n"
          ]
        },
        {
          "output_type": "display_data",
          "data": {
            "text/plain": [
              "<Figure size 432x288 with 2 Axes>"
            ],
            "image/png": "[encoded data removed]"
          },
          "metadata": {
            "needs_background": "light"
          }
        },
        {
          "output_type": "display_data",
          "data": {
            "text/plain": [
              "<Figure size 432x288 with 2 Axes>"
            ],
            "image/png": "[encoded data removed]"
          },
          "metadata": {
            "needs_background": "light"
          }
        }
      ]
    },
    {
      "cell_type": "code",
      "execution_count": null,
      "metadata": {
        "colab": {
          "base_uri": "https://localhost:8080/"
        },
        "id": "MvMQvqm4NefA",
        "outputId": "f90bd432-f1ea-4f9d-c57c-8991c31893ca"
      },
      "outputs": [
        {
          "output_type": "execute_result",
          "data": {
            "text/plain": [
              "AdaBoostClassifier(base_estimator=DecisionTreeClassifier(max_depth=1),\n",
              "                   n_estimators=200)"
            ]
          },
          "metadata": {},
          "execution_count": 45
        }
      ],
      "source": [
        "from sklearn.ensemble import AdaBoostClassifier\n",
        "from sklearn.tree import DecisionTreeClassifier\n",
        "\n",
        "classifier = AdaBoostClassifier(\n",
        "    DecisionTreeClassifier(max_depth = 1),\n",
        "    n_estimators = 200\n",
        ")\n",
        "classifier.fit(X_train, y_train)"
      ]
    },
    {
      "cell_type": "code",
      "execution_count": null,
      "metadata": {
        "colab": {
          "base_uri": "https://localhost:8080/"
        },
        "id": "UHPZaiGaPNtk",
        "outputId": "c7bbaaa8-9bc1-412b-a9e8-1f177ea690aa"
      },
      "outputs": [
        {
          "output_type": "stream",
          "name": "stdout",
          "text": [
            "Accuracy: 73.22%\n"
          ]
        }
      ],
      "source": [
        "from sklearn.metrics import accuracy_score\n",
        "\n",
        "y_pred = classifier.predict(X_test)\n",
        "predictionsxgboost = [value for value in y_pred]\n",
        "\n",
        "accuracy = accuracy_score(y_test, predictionsxgboost)\n",
        "print(\"Accuracy: %.2f%%\" % (accuracy * 100.0))"
      ]
    },
    {
      "cell_type": "code",
      "execution_count": null,
      "metadata": {
        "colab": {
          "base_uri": "https://localhost:8080/"
        },
        "id": "9RvxcQOlV9Yq",
        "outputId": "2df7a9ed-faf4-4243-adbe-debcda3003af"
      },
      "outputs": [
        {
          "output_type": "stream",
          "name": "stdout",
          "text": [
            "Accuracy :  73.224043715847\n"
          ]
        }
      ],
      "source": [
        "#decission tree\n",
        "from sklearn.metrics import confusion_matrix\n",
        "from sklearn.model_selection import train_test_split\n",
        "from sklearn.tree import DecisionTreeClassifier\n",
        "from sklearn.metrics import accuracy_score\n",
        "from sklearn.metrics import classification_report\n",
        "\n",
        "clf_gini = DecisionTreeClassifier(criterion = \"gini\",random_state = 100,max_depth=3, min_samples_leaf=5)\n",
        "\n",
        "# Performing training\n",
        "clf_gini.fit(X_train, y_train)\n",
        "\n",
        "print (\"Accuracy : \",accuracy_score(y_test,y_pred)*100)"
      ]
    },
    {
      "cell_type": "code",
      "execution_count": null,
      "metadata": {
        "id": "NSzQF_2paBIe"
      },
      "outputs": [],
      "source": [
        "#multilayer perceptron\n",
        "\n",
        "from sklearn.neural_network import MLPClassifier\n",
        "\n",
        "# Create model object\n",
        "clf = MLPClassifier(hidden_layer_sizes=(6,5),\n",
        "                    random_state=5,\n",
        "                    verbose=True,\n",
        "                    learning_rate_init=0.01)\n",
        "\n",
        "# Fit data onto the model\n",
        "clf.fit(X_train,y_train)"
      ]
    },
    {
      "cell_type": "code",
      "execution_count": null,
      "metadata": {
        "colab": {
          "base_uri": "https://localhost:8080/"
        },
        "id": "7cHRXbBUc5CP",
        "outputId": "618f9572-87e5-4cbf-a3bc-710c226660f6"
      },
      "outputs": [
        {
          "output_type": "stream",
          "name": "stdout",
          "text": [
            "Accuracy : 72.51%\n"
          ]
        }
      ],
      "source": [
        "ypred=clf.predict(X_test)\n",
        "\n",
        "# Import accuracy score\n",
        "from sklearn.metrics import accuracy_score\n",
        "\n",
        "# Calcuate accuracy\n",
        "print(\"Accuracy : %.2f%%\" % (accuracy_score(y_test,ypred)*100.0))"
      ]
    },
    {
      "cell_type": "code",
      "execution_count": null,
      "metadata": {
        "id": "-9vf4ZV4CYPo"
      },
      "outputs": [],
      "source": [
        "# xgbosst\n",
        "from numpy import loadtxt\n",
        "from xgboost import XGBClassifier\n",
        "from sklearn.model_selection import train_test_split\n",
        "from sklearn.metrics import accuracy_score\n",
        "from sklearn.preprocessing import LabelEncoder\n",
        "le = LabelEncoder()\n",
        "y_train = le.fit_transform(y_train)\n",
        "\n",
        "# X_train, X_test, y_train, y_test = train_test_split(data, labels, test_size=test_size, stratify = labels)\n",
        "\n",
        "model = XGBClassifier()\n",
        "model.fit(X_train, y_train)\n",
        "print(model)"
      ]
    },
    {
      "cell_type": "code",
      "execution_count": null,
      "metadata": {
        "colab": {
          "base_uri": "https://localhost:8080/"
        },
        "id": "Y-NSrUwNDx74",
        "outputId": "493ca6dc-ed1c-47ee-8f70-32276be7a613"
      },
      "outputs": [
        {
          "output_type": "stream",
          "name": "stdout",
          "text": [
            "Accuracy: 0.00%\n"
          ]
        }
      ],
      "source": [
        "from numpy import loadtxt\n",
        "from xgboost import XGBClassifier\n",
        "from sklearn.model_selection import train_test_split\n",
        "from sklearn.metrics import accuracy_score\n",
        "\n",
        "# make predictions for test data\n",
        "y_pred = model.predict(X_test)\n",
        "predictionsxgboost = [value for value in y_pred]\n",
        "\n",
        "accuracy = accuracy_score(y_test, y_pred)\n",
        "print(\"Accuracy: %.2f%%\" % (accuracy * 100.0))"
      ]
    },
    {
      "cell_type": "code",
      "execution_count": null,
      "metadata": {
        "id": "SIdXqShQWUEz"
      },
      "outputs": [],
      "source": [
        "from PIL import Image\n",
        "from sklearn import svm\n",
        "from sklearn.feature_extraction.text import TfidfTransformer\n",
        "from sklearn.feature_extraction.text import TfidfVectorizer\n",
        "from sklearn.metrics import accuracy_score\n",
        "from sklearn.metrics import plot_roc_curve\n",
        "from sklearn.naive_bayes import MultinomialNB\n",
        "from sklearn.neighbors import KNeighborsClassifier\n",
        "from wordcloud import WordCloud, STOPWORDS, ImageColorGenerator\n",
        "\n",
        "import collections\n",
        "import matplotlib as mpl\n",
        "import matplotlib.pyplot as plt\n",
        "import numpy as np\n",
        "import operator\n",
        "import pandas as pd\n",
        "\n",
        "unmeaningful = ['i', 'you', 'me', 'to', 'the', 'a', 'my', 'is', 'in', 'and', 'for', 'on', 'of',\n",
        "                'your', 'so', 'was', 'have', 'it', 'at', 'with', 'that', 'from', 'do', 'get',\n",
        "                'but', 'this', 'can', 'just', 'they', 'we', 'are', 'an', 'be', \"i'm\", 'will',\n",
        "                'if', 'had', 'our', 'about', 'there', 'has', 'been', '-', 'by', 'like', 'or',\n",
        "                'as', 'he', 'she', 'it', 'us', 'has' ,\"i've\", \"it's\", \"don't\", 'would', 'am',\n",
        "               'flight', 'customer', 'any', 'very', \"didn't\", \"you've\", 'thing', 'take',\n",
        "               'other', 'u', '', ' ']\n",
        "\n",
        "def clean_text(str_in):\n",
        "    res = \"\"\n",
        "    str_in = str_in.lower()\n",
        "    str_arr = str_in.split(' ')\n",
        "    for word in str_arr:\n",
        "        # make all words into lower case\n",
        "        word = word.lower()\n",
        "        # remove not useful words from the original text\n",
        "        if '@' in word or word == '' or word[:1] == '&':\n",
        "            continue\n",
        "        if word.lower() in unmeaningful:\n",
        "            continue\n",
        "        if word.isnumeric():\n",
        "            continue\n",
        "        res = res + \" \" + word\n",
        "    return res\n",
        "\n",
        "tweets[\"text\"] = tweets[\"text\"].apply(clean_text)\n",
        "sentiments = tweets['airline_sentiment'].unique()\n",
        "\n",
        "total_negative = tweets[tweets['airline_sentiment'] == 'negative']['airline_sentiment_confidence'].sum()\n",
        "total_positive = tweets[tweets['airline_sentiment'] == 'positive']['airline_sentiment_confidence'].sum()\n",
        "total_neutral = tweets[tweets['airline_sentiment'] == 'neutral']['airline_sentiment_confidence'].sum()\n",
        "\n",
        "values = [total_neutral, total_positive, total_negative]\n",
        "dictionary1 = {'Airline Sentiment':sentiments, 'Count':values}\n",
        "\n",
        "dfSentimentCount = pd.DataFrame(dictionary1)\n",
        "# dfSentimentCount.head(3)\n",
        "\n"
      ]
    },
    {
      "cell_type": "code",
      "execution_count": null,
      "metadata": {
        "colab": {
          "base_uri": "https://localhost:8080/"
        },
        "id": "lWVOlywNYQF1",
        "outputId": "cc27b1eb-9199-4c3a-aa42-947b0657a0b5"
      },
      "outputs": [
        {
          "output_type": "stream",
          "name": "stdout",
          "text": [
            "                Neutral Count  Positive Count  Negative Count\n",
            "Virgin America       143.3610        134.9727        163.2137\n",
            "United               564.4000        421.1578       2457.5967\n",
            "Southwest            548.5365        505.0800       1091.7521\n",
            "Delta                599.5580        471.7084        861.6031\n",
            "US Airways           313.1524        231.2555       2140.1501\n",
            "American             382.4092        296.4536       1852.1112\n"
          ]
        }
      ],
      "source": [
        "listOfAirlines = tweets['airline'].unique()\n",
        "\n",
        "neutralCount = []\n",
        "positiveCount = []\n",
        "negativeCount = []\n",
        "totalCount = []\n",
        "\n",
        "for airline in listOfAirlines:\n",
        "    neuC = tweets.query(\"airline == @airline and airline_sentiment == 'neutral'\")['airline_sentiment_confidence'].sum()\n",
        "    posC = tweets.query(\"airline == @airline and airline_sentiment == 'positive'\")['airline_sentiment_confidence'].sum()\n",
        "    negC = tweets.query(\"airline == @airline and airline_sentiment == 'negative'\")['airline_sentiment_confidence'].sum()\n",
        "    tot = neuC + posC + negC\n",
        "    neutralCount.append(neuC)\n",
        "    positiveCount.append(posC)\n",
        "    negativeCount.append(negC)\n",
        "    totalCount.append(tot)\n",
        "\n",
        "df2 = pd.DataFrame(index=listOfAirlines);\n",
        "df2['Neutral Count'] = neutralCount\n",
        "df2['Positive Count'] = positiveCount\n",
        "df2['Negative Count'] = negativeCount\n",
        "print(df2)"
      ]
    },
    {
      "cell_type": "code",
      "execution_count": null,
      "metadata": {
        "colab": {
          "base_uri": "https://localhost:8080/"
        },
        "id": "RRfgyvAtY5JY",
        "outputId": "707dbb45-b5ed-4bf8-c48a-28f1c402f1d6"
      },
      "outputs": [
        {
          "output_type": "stream",
          "name": "stdout",
          "text": [
            "                Negative Feedback %\n",
            "Virgin America             0.369640\n",
            "United                     0.713763\n",
            "Southwest                  0.508888\n",
            "Delta                      0.445764\n",
            "US Airways                 0.797208\n",
            "American                   0.731778\n"
          ]
        }
      ],
      "source": [
        "percentNeg = []\n",
        "for neg, tot in zip(negativeCount, totalCount):\n",
        "    perc = neg/tot\n",
        "    percentNeg.append(perc)\n",
        "\n",
        "df3 = pd.DataFrame(index=listOfAirlines)\n",
        "df3['Negative Feedback %'] = percentNeg\n",
        "print(df3)"
      ]
    },
    {
      "cell_type": "code",
      "execution_count": null,
      "metadata": {
        "id": "BdbLO9NBZ1NT"
      },
      "outputs": [],
      "source": [
        "negative_text = tweets[tweets['airline_sentiment'] == 'negative']['text']\n",
        "neutral_text = tweets[tweets['airline_sentiment'] == 'neutral']['text']\n",
        "positive_text = tweets[tweets['airline_sentiment'] == 'positive']['text']\n",
        "\n",
        "def count_words(texts):\n",
        "    result = {}\n",
        "    for text in texts:\n",
        "        text_arr = text.split(' ')\n",
        "        for word in text_arr:\n",
        "            # exclude empty string\n",
        "            if word == '':\n",
        "                continue\n",
        "            # increase the frequency count in the returning dict\n",
        "            if word in result:\n",
        "                count = result[word]\n",
        "                result[word] = count + 1\n",
        "            else:\n",
        "                result[word] = 1\n",
        "    return result\n",
        "\n",
        "negative_dict = count_words(negative_text)\n",
        "neutral_dict = count_words(neutral_text)\n",
        "positive_dict = count_words(positive_text)\n",
        "\n",
        "sorted_negative_dict = sorted(negative_dict.items(), key=operator.itemgetter(1), reverse=True)\n",
        "sorted_neutral_dict = sorted(neutral_dict.items(), key=operator.itemgetter(1), reverse=True)\n",
        "sorted_positive_dict = sorted(positive_dict.items(), key=operator.itemgetter(1), reverse=True)\n",
        "\n",
        "negative_df = pd.DataFrame(sorted_negative_dict, columns=['Word', 'Frequency'])\n",
        "neutral_df = pd.DataFrame(sorted_neutral_dict, columns=['Word', 'Frequency'])\n",
        "positive_df = pd.DataFrame(sorted_positive_dict, columns=['Word', 'Frequency'])\n"
      ]
    },
    {
      "cell_type": "code",
      "execution_count": null,
      "metadata": {
        "id": "q0OJPatnaUMf"
      },
      "outputs": [],
      "source": [
        "print(\"Wordcloud for Word Frequency from all Negative Feedback\")\n",
        "\n",
        "negative_wordcloud = WordCloud(background_color=\"white\", width=800, height=400)\n",
        "negative_wordcloud.generate_from_frequencies(negative_dict)\n",
        "plt.figure(figsize=(15,10))\n",
        "plt.imshow(negative_wordcloud, interpolation=\"bilinear\")\n",
        "plt.axis(\"off\")\n",
        "plt.show()"
      ]
    },
    {
      "cell_type": "code",
      "execution_count": null,
      "metadata": {
        "id": "EQUMCTQraVxw"
      },
      "outputs": [],
      "source": [
        "print(\"Wordcloud for Word Frequency from all Neutral Feedback\")\n",
        "\n",
        "neutral_wordcloud = WordCloud(background_color=\"white\", width=800, height=400)\n",
        "neutral_wordcloud.generate_from_frequencies(neutral_dict)\n",
        "plt.figure(figsize=(15,10))\n",
        "plt.imshow(neutral_wordcloud, interpolation=\"bilinear\")\n",
        "plt.axis(\"off\")\n",
        "plt.show()"
      ]
    },
    {
      "cell_type": "code",
      "execution_count": null,
      "metadata": {
        "id": "OwDWU427aZ3d"
      },
      "outputs": [],
      "source": [
        "print(\"Wordcloud for Word Frequency from all Positive Feedback\")\n",
        "\n",
        "positive_wordcloud = WordCloud(background_color=\"white\", width=800, height=400)\n",
        "positive_wordcloud.generate_from_frequencies(positive_dict)\n",
        "plt.figure(figsize=(15,10))\n",
        "plt.imshow(positive_wordcloud, interpolation=\"bilinear\")\n",
        "plt.axis(\"off\")\n",
        "plt.show()"
      ]
    },
    {
      "cell_type": "code",
      "execution_count": null,
      "metadata": {
        "colab": {
          "base_uri": "https://localhost:8080/"
        },
        "id": "ba6vqCOMbRYC",
        "outputId": "3abc8388-6696-446b-f7f3-37d0e7ad1969"
      },
      "outputs": [
        {
          "output_type": "stream",
          "name": "stdout",
          "text": [
            "Predicted result: ['negative' 'negative' 'positive' ... 'neutral' 'negative' 'negative']\n",
            "Accuracy score from linear SVC model: 81.5915300546448\n",
            "Predicted result: ['negative' 'negative' 'neutral' ... 'negative' 'negative' 'negative']\n",
            "Accuracy score from Naive Bayes model: 75.06830601092896\n"
          ]
        }
      ],
      "source": [
        "from sklearn.metrics import classification_report, confusion_matrix, accuracy_score\n",
        "from sklearn.metrics import confusion_matrix, ConfusionMatrixDisplay\n",
        "\n",
        "\n",
        "X_train = tweets.loc[:11711, 'text'].values\n",
        "Y_train = tweets.loc[:11711, 'airline_sentiment'].values\n",
        "X_test1 = tweets.loc[11712:, 'text'].values\n",
        "Y_test1= tweets.loc[11712:, 'airline_sentiment'].values\n",
        "\n",
        "vectorizer = TfidfVectorizer()\n",
        "train_vectors = vectorizer.fit_transform(X_train)\n",
        "test_vectors = vectorizer.transform(X_test1)\n",
        "\n",
        "# print(\"The shape of train vector is\", train_vectors.shape)\n",
        "# print(\"The shape of test vector is\", test_vectors.shape)\n",
        "\n",
        "svc = svm.SVC()\n",
        "clf = svc.fit(train_vectors, Y_train)\n",
        "\n",
        "predicted = clf.predict(test_vectors)\n",
        "print(\"Predicted result:\", predicted)\n",
        "print(\"Accuracy score from linear SVC model:\", accuracy_score(Y_test1, predicted)*100)\n",
        "\n",
        "nb = MultinomialNB()\n",
        "clf2 = nb.fit(train_vectors, Y_train)\n",
        "\n",
        "predicted2 = clf2.predict(test_vectors)\n",
        "print(\"Predicted result:\", predicted2)\n",
        "print(\"Accuracy score from Naive Bayes model:\", accuracy_score(Y_test1, predicted2)*100)\n",
        "\n",
        "# cm = confusion_matrix(y_test, predictions)\n",
        "# ConfusionMatrixDisplay.from_estimator(clf, X_test, y_test)\n",
        "# plt.show()"
      ]
    },
    {
      "cell_type": "code",
      "execution_count": null,
      "metadata": {
        "id": "RipZ202AADlV"
      },
      "outputs": [],
      "source": [
        "import seaborn as sns\n",
        "\n",
        "from sklearn.metrics import classification_report, confusion_matrix, accuracy_score\n",
        "predictions = classifier_rf.predict(X_test)\n",
        "\n",
        "print(\"\\nConfusion Matrix\")\n",
        "print(confusion_matrix(y_test, predictions))\n",
        "\n",
        "sns.heatmap(confusion_matrix(y_test, predictions), annot=True)\n",
        "\n",
        "print(\"\\nClassification Report\")\n",
        "print(classification_report(y_test, predictions))\n",
        "\n",
        "print(\"\\nAccuracy\")\n",
        "print(accuracy_score(y_test, predictions)*100, '%')"
      ]
    },
    {
      "cell_type": "code",
      "execution_count": null,
      "metadata": {
        "id": "wmXp1sOBA0UH"
      },
      "outputs": [],
      "source": [
        "import pickle\n",
        "\n",
        "pickle.dump(classifier_rf, open('classifier_rf.sav', 'wb'))"
      ]
    },
    {
      "cell_type": "code",
      "execution_count": null,
      "metadata": {
        "id": "SQFZYwcuBuNq"
      },
      "outputs": [],
      "source": [
        "modelFile = 'classifier_rf.sav'\n",
        "\n",
        "model = pickle.load(open(modelFile, 'rb'))\n",
        "print('Model loaded:', model.score(X_test, y_test)*100, '% accuracy')"
      ]
    }
  ],
  "metadata": {
    "colab": {
      "provenance": [],
      "include_colab_link": true
    },
    "kernelspec": {
      "display_name": "Python 3",
      "name": "python3"
    },
    "language_info": {
      "name": "python"
    }
  },
  "nbformat": 4,
  "nbformat_minor": 0
}